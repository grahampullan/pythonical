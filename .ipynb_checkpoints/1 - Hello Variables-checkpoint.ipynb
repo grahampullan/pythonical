{
 "cells": [
  {
   "cell_type": "markdown",
   "metadata": {},
   "source": [
    "# Part 1 - Say \"Hello\" to variables!\n",
    " "
   ]
  },
  {
   "cell_type": "markdown",
   "metadata": {},
   "source": [
    "### Jupyter notebooks\n",
    "This guide is a Jupyter notebook. This is a live page where we can read text and also write Python programs. All the grey boxes contain Python code that you can run by clicking in the box and pressing Run in the toolbar above, or by pressing Shift-Return on your keyboard. \n",
    "\n",
    "Even better: **you can change** the notebook so you can modify the programs and see what happens! "
   ]
  },
  {
   "cell_type": "markdown",
   "metadata": {},
   "source": [
    "### First steps\n",
    "The classic first step in any computing language is a \"hello world\" program! To run the program, click on the box below and then do a Shift-Return to run it."
   ]
  },
  {
   "cell_type": "code",
   "execution_count": null,
   "metadata": {},
   "outputs": [],
   "source": [
    "print(\"hello world\")"
   ]
  },
  {
   "cell_type": "markdown",
   "metadata": {},
   "source": [
    "You can edit the program in the box above - you can say \"hello\" to whoever you like! Have a go! "
   ]
  },
  {
   "cell_type": "markdown",
   "metadata": {},
   "source": [
    "### Strings and numbers\n",
    "The \"hello world\" in our first example is in quotation marks (we could also have used apostrophes: `print('hello world')` because we want Python to treat \"hello world\" as a series of characters - this is called a **string** .\n",
    "\n",
    "Python can also work with numbers. If we want to add two numbers together, we can write:"
   ]
  },
  {
   "cell_type": "code",
   "execution_count": null,
   "metadata": {},
   "outputs": [],
   "source": [
    "5.5 + 2 "
   ]
  },
  {
   "cell_type": "markdown",
   "metadata": {},
   "source": [
    "If the calculation involves several operations, Python will do brackets, then multiplying or dividing, then adding or subtracting. What do you think the answer to the calculation in the box below will be. Do a Shift-Return to find out!"
   ]
  },
  {
   "cell_type": "code",
   "execution_count": null,
   "metadata": {},
   "outputs": [],
   "source": [
    "1+2*(7+3)"
   ]
  },
  {
   "cell_type": "markdown",
   "metadata": {},
   "source": [
    "A string can also include numbers, but if we try to add two numbers that are strings we do not get the sum of the numbers:"
   ]
  },
  {
   "cell_type": "code",
   "execution_count": null,
   "metadata": {},
   "outputs": [],
   "source": [
    "\"12\" + \"8\""
   ]
  },
  {
   "cell_type": "markdown",
   "metadata": {},
   "source": [
    "Instead, Python has done a string addition - the strings have been combined into one string. Notice that the output is in quotation marks, showing that it is a string."
   ]
  },
  {
   "cell_type": "markdown",
   "metadata": {},
   "source": [
    "### Storing information using Variables\n",
    "\n",
    "We can store information in the computer's memory using **variables**. We create a variable by giving it a name and assigning some data (a number or a string, for example) to it."
   ]
  },
  {
   "cell_type": "code",
   "execution_count": null,
   "metadata": {},
   "outputs": [],
   "source": [
    "message = \"hello world\"\n",
    "print (message)"
   ]
  },
  {
   "cell_type": "markdown",
   "metadata": {},
   "source": [
    "We can use the same **operators** (like add`+`, subtract `-`, multiply `*` and divide `\\`) that we have used on our strings and numbers on these variables.\n",
    "\n",
    "We can add create two string variables and add them together:"
   ]
  },
  {
   "cell_type": "code",
   "execution_count": null,
   "metadata": {},
   "outputs": [],
   "source": [
    "greeting = \"hello \"\n",
    "name = \"Jane\"\n",
    "message = greeting + name\n",
    "print (message)"
   ]
  },
  {
   "cell_type": "markdown",
   "metadata": {},
   "source": [
    "We can even multiply a string variable:"
   ]
  },
  {
   "cell_type": "code",
   "execution_count": null,
   "metadata": {},
   "outputs": [],
   "source": [
    "noise = \"bang!\"\n",
    "lots_of_noise = noise*10\n",
    "print (lots_of_noise)"
   ]
  },
  {
   "cell_type": "markdown",
   "metadata": {},
   "source": [
    "We can do maths on number variables:"
   ]
  },
  {
   "cell_type": "code",
   "execution_count": null,
   "metadata": {},
   "outputs": [],
   "source": [
    "bananas_on_bunch = 6\n",
    "number_of_bunches = 10\n",
    "bananas = number_of_bunches * bananas_on_bunch\n",
    "print (bananas)"
   ]
  },
  {
   "cell_type": "markdown",
   "metadata": {},
   "source": [
    "**Variables are super important in programming**. They allow us to write programs that are easy to reuse. For example try changing `bananas_on_bunch` in the above example to 5 - you can then re-run the calculation (Shift-Return) *without* having to type out a new calculation again. \n",
    "\n",
    "Of course, there are lots of calculations we might want to do. Here is another, but you can experiment with your own!"
   ]
  },
  {
   "cell_type": "code",
   "execution_count": null,
   "metadata": {},
   "outputs": [],
   "source": [
    "my_age = 21\n",
    "your_age = 12\n",
    "his_age = 9\n",
    "her_age = 14\n",
    "total_age = (my_age + your_age + his_age + her_age)\n",
    "average_age = total_age / 4\n",
    "print (average_age)"
   ]
  },
  {
   "cell_type": "code",
   "execution_count": null,
   "metadata": {},
   "outputs": [],
   "source": []
  }
 ],
 "metadata": {
  "kernelspec": {
   "display_name": "Python 3",
   "language": "python",
   "name": "python3"
  },
  "language_info": {
   "codemirror_mode": {
    "name": "ipython",
    "version": 3
   },
   "file_extension": ".py",
   "mimetype": "text/x-python",
   "name": "python",
   "nbconvert_exporter": "python",
   "pygments_lexer": "ipython3",
   "version": "3.7.3"
  }
 },
 "nbformat": 4,
 "nbformat_minor": 2
}
