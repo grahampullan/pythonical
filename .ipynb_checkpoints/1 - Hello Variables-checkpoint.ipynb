{
 "cells": [
  {
   "cell_type": "markdown",
   "metadata": {},
   "source": [
    "# Part 1 - Say \"Hello\" to variables!\n",
    "(and a tiny look at **functions**)\n",
    " "
   ]
  },
  {
   "cell_type": "markdown",
   "metadata": {},
   "source": [
    "### Jupyter notebooks\n",
    "This guide is a Jupyter notebook. This is a live page where we can read text and also write Python programs. You can **change** the notebook so you can modify the programs and see what happens!"
   ]
  },
  {
   "cell_type": "markdown",
   "metadata": {},
   "source": [
    "### First steps\n",
    "The classic first step in any computing language is a \"hello world\" program! To run the program, click on the box below and then do a Shift-Return to run it."
   ]
  },
  {
   "cell_type": "code",
   "execution_count": null,
   "metadata": {},
   "outputs": [],
   "source": [
    "print(\"hello world\")"
   ]
  },
  {
   "cell_type": "markdown",
   "metadata": {},
   "source": [
    "You can edit the program in the box above - you can say \"hello\" to whoever you like! Have a go! "
   ]
  },
  {
   "cell_type": "markdown",
   "metadata": {},
   "source": [
    "### Strings and numbers\n",
    "The \"hello world\" in our first example is in quotation marks (we could also have used apostrophes: `print('hello world')` because we want Python to treat \"hello world\" as a series of characters - this is called a **string** .\n",
    "\n",
    "Python can also work with numbers. If we want to add two numbers together, we can write:"
   ]
  },
  {
   "cell_type": "code",
   "execution_count": null,
   "metadata": {},
   "outputs": [],
   "source": [
    "5.5 + 2 "
   ]
  },
  {
   "cell_type": "markdown",
   "metadata": {},
   "source": [
    "If the calculation involves several operations, Python will do brackets, then multiplying or dividing, then adding or subtracting. What do you think the answer to the calculation in the box below will be. Do a Shift-Return to find out!"
   ]
  },
  {
   "cell_type": "code",
   "execution_count": null,
   "metadata": {},
   "outputs": [],
   "source": [
    "1+2*(7+3)"
   ]
  },
  {
   "cell_type": "markdown",
   "metadata": {},
   "source": [
    "A string can also include numbers, but if we try to add two numbers that are strings we do not get the sum of the numbers:"
   ]
  },
  {
   "cell_type": "code",
   "execution_count": null,
   "metadata": {},
   "outputs": [],
   "source": [
    "\"12\" + \"8\""
   ]
  },
  {
   "cell_type": "markdown",
   "metadata": {},
   "source": [
    "Instead, Python has done a string addition - the strings have been combined into one string. Notice that the output is in quotation marks, showing that it is a string."
   ]
  },
  {
   "cell_type": "markdown",
   "metadata": {},
   "source": [
    "### Storing information using Variables\n",
    "\n",
    "We can store information in the computer's memory using **variables**. We create a variable by giving it a name and assigning some data (a number or a string, for example) to it."
   ]
  },
  {
   "cell_type": "code",
   "execution_count": null,
   "metadata": {},
   "outputs": [],
   "source": [
    "message = \"hello world\"\n",
    "print (message)"
   ]
  },
  {
   "cell_type": "markdown",
   "metadata": {},
   "source": [
    "We can do things to variables using **operators**. For example, as we saw above we can use the `+` operator to make a new string by adding two other strings together:"
   ]
  },
  {
   "cell_type": "code",
   "execution_count": null,
   "metadata": {},
   "outputs": [],
   "source": [
    "greeting = \"hello \"\n",
    "name = \"Jane\"\n",
    "message = greeting + name\n",
    "print (message)"
   ]
  },
  {
   "cell_type": "markdown",
   "metadata": {},
   "source": [
    "**Variables are super important in programming**. They allow us to write programs that will work on information (data) that is not known at the time the program is written. For example, we can write a little program called `greet` that will say \"hello\" to any `name` that is given to it. \n",
    "\n",
    "We can **define** (using `def`) our little `greet` program using:"
   ]
  },
  {
   "cell_type": "code",
   "execution_count": null,
   "metadata": {},
   "outputs": [],
   "source": [
    "def greet(name):\n",
    "    print (\"hello \" + name)"
   ]
  },
  {
   "cell_type": "markdown",
   "metadata": {},
   "source": [
    "When we want to run `greet` we must supply the name of a person in the brackets:"
   ]
  },
  {
   "cell_type": "code",
   "execution_count": null,
   "metadata": {},
   "outputs": [],
   "source": [
    "greet(\"Jane\")"
   ]
  },
  {
   "cell_type": "markdown",
   "metadata": {},
   "source": [
    "The short program `greet` is an example of a **function** and we will look at these in much more detail in later notebooks. \n",
    "\n",
    "We use functions when we have some Python code that we know we will want to re-use in the future - they also make our programs look tidier. \n",
    "\n",
    "Let's re-use `greet` to say hello to someone else:"
   ]
  },
  {
   "cell_type": "code",
   "execution_count": null,
   "metadata": {},
   "outputs": [],
   "source": [
    "greet(\"Bob\")"
   ]
  },
  {
   "cell_type": "markdown",
   "metadata": {},
   "source": [
    "To finish this part, see if you can store the name of someone you know in a **variable** called `friend` (remember that this will be a **string**). You can then say \"hello\" to that person using `friend` and the `greet` function:"
   ]
  },
  {
   "cell_type": "code",
   "execution_count": null,
   "metadata": {},
   "outputs": [],
   "source": [
    "### Use this box to have a go (lines starting with # are ignored by Python)\n",
    "\n"
   ]
  }
 ],
 "metadata": {
  "kernelspec": {
   "display_name": "Python 3",
   "language": "python",
   "name": "python3"
  },
  "language_info": {
   "codemirror_mode": {
    "name": "ipython",
    "version": 3
   },
   "file_extension": ".py",
   "mimetype": "text/x-python",
   "name": "python",
   "nbconvert_exporter": "python",
   "pygments_lexer": "ipython3",
   "version": "3.7.3"
  }
 },
 "nbformat": 4,
 "nbformat_minor": 2
}
